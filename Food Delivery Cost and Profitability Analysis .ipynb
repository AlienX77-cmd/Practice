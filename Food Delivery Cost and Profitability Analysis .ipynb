{
 "cells": [
  {
   "cell_type": "markdown",
   "id": "272f6e5d",
   "metadata": {},
   "source": [
    "# Food Delivery Cost and Profitability Analysis\n",
    "Food Delivery Cost and Profitability Analysis is a comprehensive evaluation aimed at understanding and optimizing the financial dynamics of a food delivery operation. The goal is to identify areas where the service can reduce costs, increase revenue, and implement pricing or commission strategies that enhance profitability. So, if you want to learn how to perform cost and profitability analysis of a business operation, this article is for you. In this article, I’ll take you through the task of Food Delivery Cost and Profitability Analysis using Python."
   ]
  },
  {
   "cell_type": "markdown",
   "id": "317a4c95",
   "metadata": {},
   "source": [
    "### Food Delivery Cost and Profitability Analysis: Process We Can Follow\n",
    "\n",
    "Food Delivery Cost and Profitability Analysis involves examining all the costs associated with delivering food orders, from direct expenses like delivery fees and packaging to indirect expenses like discounts offered to customers and commission fees paid by restaurants. By juxtaposing these costs against the revenue generated (primarily through order values and commission fees), the analysis aims to provide insights into how profitable the food delivery service is on a per-order basis.\n",
    "\n",
    "Below is the process we can follow for the task of Food Delivery Cost and Profitability Analysis:\n",
    "\n",
    "1) Start by gathering comprehensive data related to all aspects of food delivery operations.\n",
    "2) Clean the dataset for inconsistencies, missing values, or irrelevant information.\n",
    "3) Extract relevant features that could impact cost and profitability.\n",
    "4) Break down the costs associated with each order, including fixed costs (like packaging) and variable costs (like delivery fees and discounts).\n",
    "5) Determine the revenue generated from each order, focusing on commission fees and the order value before discounts.\n",
    "6) For each order, calculate the profit by subtracting the total costs from the revenue. Analyze the distribution of profitability across all orders to identify trends.\n",
    "7) Based on the cost and profitability analysis, develop strategic recommendations aimed at enhancing profitability.\n",
    "8) Use the data to simulate the financial impact of proposed changes, such as adjusting discount or commission rates."
   ]
  },
  {
   "cell_type": "code",
   "execution_count": 1,
   "id": "9df29cc3",
   "metadata": {},
   "outputs": [],
   "source": [
    "import pandas as pd\n",
    "\n",
    "food = pd.read_csv(\"food_orders_new_delhi.csv\")"
   ]
  },
  {
   "cell_type": "code",
   "execution_count": 2,
   "id": "2b8a9d58",
   "metadata": {},
   "outputs": [
    {
     "data": {
      "text/html": [
       "<div>\n",
       "<style scoped>\n",
       "    .dataframe tbody tr th:only-of-type {\n",
       "        vertical-align: middle;\n",
       "    }\n",
       "\n",
       "    .dataframe tbody tr th {\n",
       "        vertical-align: top;\n",
       "    }\n",
       "\n",
       "    .dataframe thead th {\n",
       "        text-align: right;\n",
       "    }\n",
       "</style>\n",
       "<table border=\"1\" class=\"dataframe\">\n",
       "  <thead>\n",
       "    <tr style=\"text-align: right;\">\n",
       "      <th></th>\n",
       "      <th>Order ID</th>\n",
       "      <th>Customer ID</th>\n",
       "      <th>Restaurant ID</th>\n",
       "      <th>Order Date and Time</th>\n",
       "      <th>Delivery Date and Time</th>\n",
       "      <th>Order Value</th>\n",
       "      <th>Delivery Fee</th>\n",
       "      <th>Payment Method</th>\n",
       "      <th>Discounts and Offers</th>\n",
       "      <th>Commission Fee</th>\n",
       "      <th>Payment Processing Fee</th>\n",
       "      <th>Refunds/Chargebacks</th>\n",
       "    </tr>\n",
       "  </thead>\n",
       "  <tbody>\n",
       "    <tr>\n",
       "      <th>0</th>\n",
       "      <td>1</td>\n",
       "      <td>C8270</td>\n",
       "      <td>R2924</td>\n",
       "      <td>2024-02-01 01:11:52</td>\n",
       "      <td>2024-02-01 02:39:52</td>\n",
       "      <td>1914</td>\n",
       "      <td>0</td>\n",
       "      <td>Credit Card</td>\n",
       "      <td>5% on App</td>\n",
       "      <td>150</td>\n",
       "      <td>47</td>\n",
       "      <td>0</td>\n",
       "    </tr>\n",
       "    <tr>\n",
       "      <th>1</th>\n",
       "      <td>2</td>\n",
       "      <td>C1860</td>\n",
       "      <td>R2054</td>\n",
       "      <td>2024-02-02 22:11:04</td>\n",
       "      <td>2024-02-02 22:46:04</td>\n",
       "      <td>986</td>\n",
       "      <td>40</td>\n",
       "      <td>Digital Wallet</td>\n",
       "      <td>10%</td>\n",
       "      <td>198</td>\n",
       "      <td>23</td>\n",
       "      <td>0</td>\n",
       "    </tr>\n",
       "    <tr>\n",
       "      <th>2</th>\n",
       "      <td>3</td>\n",
       "      <td>C6390</td>\n",
       "      <td>R2870</td>\n",
       "      <td>2024-01-31 05:54:35</td>\n",
       "      <td>2024-01-31 06:52:35</td>\n",
       "      <td>937</td>\n",
       "      <td>30</td>\n",
       "      <td>Cash on Delivery</td>\n",
       "      <td>15% New User</td>\n",
       "      <td>195</td>\n",
       "      <td>45</td>\n",
       "      <td>0</td>\n",
       "    </tr>\n",
       "    <tr>\n",
       "      <th>3</th>\n",
       "      <td>4</td>\n",
       "      <td>C6191</td>\n",
       "      <td>R2642</td>\n",
       "      <td>2024-01-16 22:52:49</td>\n",
       "      <td>2024-01-16 23:38:49</td>\n",
       "      <td>1463</td>\n",
       "      <td>50</td>\n",
       "      <td>Cash on Delivery</td>\n",
       "      <td>NaN</td>\n",
       "      <td>146</td>\n",
       "      <td>27</td>\n",
       "      <td>0</td>\n",
       "    </tr>\n",
       "    <tr>\n",
       "      <th>4</th>\n",
       "      <td>5</td>\n",
       "      <td>C6734</td>\n",
       "      <td>R2799</td>\n",
       "      <td>2024-01-29 01:19:30</td>\n",
       "      <td>2024-01-29 02:48:30</td>\n",
       "      <td>1992</td>\n",
       "      <td>30</td>\n",
       "      <td>Cash on Delivery</td>\n",
       "      <td>50 off Promo</td>\n",
       "      <td>130</td>\n",
       "      <td>50</td>\n",
       "      <td>0</td>\n",
       "    </tr>\n",
       "  </tbody>\n",
       "</table>\n",
       "</div>"
      ],
      "text/plain": [
       "   Order ID Customer ID Restaurant ID  Order Date and Time  \\\n",
       "0         1       C8270         R2924  2024-02-01 01:11:52   \n",
       "1         2       C1860         R2054  2024-02-02 22:11:04   \n",
       "2         3       C6390         R2870  2024-01-31 05:54:35   \n",
       "3         4       C6191         R2642  2024-01-16 22:52:49   \n",
       "4         5       C6734         R2799  2024-01-29 01:19:30   \n",
       "\n",
       "  Delivery Date and Time  Order Value  Delivery Fee    Payment Method  \\\n",
       "0    2024-02-01 02:39:52         1914             0       Credit Card   \n",
       "1    2024-02-02 22:46:04          986            40    Digital Wallet   \n",
       "2    2024-01-31 06:52:35          937            30  Cash on Delivery   \n",
       "3    2024-01-16 23:38:49         1463            50  Cash on Delivery   \n",
       "4    2024-01-29 02:48:30         1992            30  Cash on Delivery   \n",
       "\n",
       "  Discounts and Offers  Commission Fee  Payment Processing Fee  \\\n",
       "0            5% on App             150                      47   \n",
       "1                  10%             198                      23   \n",
       "2         15% New User             195                      45   \n",
       "3                  NaN             146                      27   \n",
       "4         50 off Promo             130                      50   \n",
       "\n",
       "   Refunds/Chargebacks  \n",
       "0                    0  \n",
       "1                    0  \n",
       "2                    0  \n",
       "3                    0  \n",
       "4                    0  "
      ]
     },
     "execution_count": 2,
     "metadata": {},
     "output_type": "execute_result"
    }
   ],
   "source": [
    "food.head(5)"
   ]
  },
  {
   "cell_type": "code",
   "execution_count": 3,
   "id": "66c8423b",
   "metadata": {},
   "outputs": [
    {
     "data": {
      "text/plain": [
       "(1000, 12)"
      ]
     },
     "execution_count": 3,
     "metadata": {},
     "output_type": "execute_result"
    }
   ],
   "source": [
    "food.shape"
   ]
  },
  {
   "cell_type": "code",
   "execution_count": 4,
   "id": "223a3d78",
   "metadata": {},
   "outputs": [
    {
     "name": "stdout",
     "output_type": "stream",
     "text": [
      "<class 'pandas.core.frame.DataFrame'>\n",
      "RangeIndex: 1000 entries, 0 to 999\n",
      "Data columns (total 12 columns):\n",
      " #   Column                  Non-Null Count  Dtype \n",
      "---  ------                  --------------  ----- \n",
      " 0   Order ID                1000 non-null   int64 \n",
      " 1   Customer ID             1000 non-null   object\n",
      " 2   Restaurant ID           1000 non-null   object\n",
      " 3   Order Date and Time     1000 non-null   object\n",
      " 4   Delivery Date and Time  1000 non-null   object\n",
      " 5   Order Value             1000 non-null   int64 \n",
      " 6   Delivery Fee            1000 non-null   int64 \n",
      " 7   Payment Method          1000 non-null   object\n",
      " 8   Discounts and Offers    815 non-null    object\n",
      " 9   Commission Fee          1000 non-null   int64 \n",
      " 10  Payment Processing Fee  1000 non-null   int64 \n",
      " 11  Refunds/Chargebacks     1000 non-null   int64 \n",
      "dtypes: int64(6), object(6)\n",
      "memory usage: 93.9+ KB\n"
     ]
    }
   ],
   "source": [
    "food.info()"
   ]
  },
  {
   "cell_type": "code",
   "execution_count": 5,
   "id": "0897e188",
   "metadata": {},
   "outputs": [
    {
     "data": {
      "text/html": [
       "<div>\n",
       "<style scoped>\n",
       "    .dataframe tbody tr th:only-of-type {\n",
       "        vertical-align: middle;\n",
       "    }\n",
       "\n",
       "    .dataframe tbody tr th {\n",
       "        vertical-align: top;\n",
       "    }\n",
       "\n",
       "    .dataframe thead th {\n",
       "        text-align: right;\n",
       "    }\n",
       "</style>\n",
       "<table border=\"1\" class=\"dataframe\">\n",
       "  <thead>\n",
       "    <tr style=\"text-align: right;\">\n",
       "      <th></th>\n",
       "      <th>Order ID</th>\n",
       "      <th>Customer ID</th>\n",
       "      <th>Restaurant ID</th>\n",
       "      <th>Order Date and Time</th>\n",
       "      <th>Delivery Date and Time</th>\n",
       "      <th>Order Value</th>\n",
       "      <th>Delivery Fee</th>\n",
       "      <th>Payment Method</th>\n",
       "      <th>Discounts and Offers</th>\n",
       "      <th>Commission Fee</th>\n",
       "      <th>Payment Processing Fee</th>\n",
       "      <th>Refunds/Chargebacks</th>\n",
       "    </tr>\n",
       "  </thead>\n",
       "  <tbody>\n",
       "    <tr>\n",
       "      <th>count</th>\n",
       "      <td>1000.000000</td>\n",
       "      <td>1000</td>\n",
       "      <td>1000</td>\n",
       "      <td>1000</td>\n",
       "      <td>1000</td>\n",
       "      <td>1000.000000</td>\n",
       "      <td>1000.000000</td>\n",
       "      <td>1000</td>\n",
       "      <td>815</td>\n",
       "      <td>1000.00000</td>\n",
       "      <td>1000.000000</td>\n",
       "      <td>1000.000000</td>\n",
       "    </tr>\n",
       "    <tr>\n",
       "      <th>unique</th>\n",
       "      <td>NaN</td>\n",
       "      <td>947</td>\n",
       "      <td>621</td>\n",
       "      <td>1000</td>\n",
       "      <td>1000</td>\n",
       "      <td>NaN</td>\n",
       "      <td>NaN</td>\n",
       "      <td>3</td>\n",
       "      <td>4</td>\n",
       "      <td>NaN</td>\n",
       "      <td>NaN</td>\n",
       "      <td>NaN</td>\n",
       "    </tr>\n",
       "    <tr>\n",
       "      <th>top</th>\n",
       "      <td>NaN</td>\n",
       "      <td>C7938</td>\n",
       "      <td>R2317</td>\n",
       "      <td>2024-02-01 01:11:52</td>\n",
       "      <td>2024-02-01 02:39:52</td>\n",
       "      <td>NaN</td>\n",
       "      <td>NaN</td>\n",
       "      <td>Cash on Delivery</td>\n",
       "      <td>10%</td>\n",
       "      <td>NaN</td>\n",
       "      <td>NaN</td>\n",
       "      <td>NaN</td>\n",
       "    </tr>\n",
       "    <tr>\n",
       "      <th>freq</th>\n",
       "      <td>NaN</td>\n",
       "      <td>3</td>\n",
       "      <td>6</td>\n",
       "      <td>1</td>\n",
       "      <td>1</td>\n",
       "      <td>NaN</td>\n",
       "      <td>NaN</td>\n",
       "      <td>357</td>\n",
       "      <td>233</td>\n",
       "      <td>NaN</td>\n",
       "      <td>NaN</td>\n",
       "      <td>NaN</td>\n",
       "    </tr>\n",
       "    <tr>\n",
       "      <th>mean</th>\n",
       "      <td>500.500000</td>\n",
       "      <td>NaN</td>\n",
       "      <td>NaN</td>\n",
       "      <td>NaN</td>\n",
       "      <td>NaN</td>\n",
       "      <td>1053.969000</td>\n",
       "      <td>28.620000</td>\n",
       "      <td>NaN</td>\n",
       "      <td>NaN</td>\n",
       "      <td>126.99000</td>\n",
       "      <td>29.832000</td>\n",
       "      <td>28.300000</td>\n",
       "    </tr>\n",
       "    <tr>\n",
       "      <th>std</th>\n",
       "      <td>288.819436</td>\n",
       "      <td>NaN</td>\n",
       "      <td>NaN</td>\n",
       "      <td>NaN</td>\n",
       "      <td>NaN</td>\n",
       "      <td>530.975339</td>\n",
       "      <td>16.958278</td>\n",
       "      <td>NaN</td>\n",
       "      <td>NaN</td>\n",
       "      <td>43.06405</td>\n",
       "      <td>11.627165</td>\n",
       "      <td>49.614228</td>\n",
       "    </tr>\n",
       "    <tr>\n",
       "      <th>min</th>\n",
       "      <td>1.000000</td>\n",
       "      <td>NaN</td>\n",
       "      <td>NaN</td>\n",
       "      <td>NaN</td>\n",
       "      <td>NaN</td>\n",
       "      <td>104.000000</td>\n",
       "      <td>0.000000</td>\n",
       "      <td>NaN</td>\n",
       "      <td>NaN</td>\n",
       "      <td>50.00000</td>\n",
       "      <td>10.000000</td>\n",
       "      <td>0.000000</td>\n",
       "    </tr>\n",
       "    <tr>\n",
       "      <th>25%</th>\n",
       "      <td>250.750000</td>\n",
       "      <td>NaN</td>\n",
       "      <td>NaN</td>\n",
       "      <td>NaN</td>\n",
       "      <td>NaN</td>\n",
       "      <td>597.750000</td>\n",
       "      <td>20.000000</td>\n",
       "      <td>NaN</td>\n",
       "      <td>NaN</td>\n",
       "      <td>90.00000</td>\n",
       "      <td>20.000000</td>\n",
       "      <td>0.000000</td>\n",
       "    </tr>\n",
       "    <tr>\n",
       "      <th>50%</th>\n",
       "      <td>500.500000</td>\n",
       "      <td>NaN</td>\n",
       "      <td>NaN</td>\n",
       "      <td>NaN</td>\n",
       "      <td>NaN</td>\n",
       "      <td>1038.500000</td>\n",
       "      <td>30.000000</td>\n",
       "      <td>NaN</td>\n",
       "      <td>NaN</td>\n",
       "      <td>127.00000</td>\n",
       "      <td>30.000000</td>\n",
       "      <td>0.000000</td>\n",
       "    </tr>\n",
       "    <tr>\n",
       "      <th>75%</th>\n",
       "      <td>750.250000</td>\n",
       "      <td>NaN</td>\n",
       "      <td>NaN</td>\n",
       "      <td>NaN</td>\n",
       "      <td>NaN</td>\n",
       "      <td>1494.000000</td>\n",
       "      <td>40.000000</td>\n",
       "      <td>NaN</td>\n",
       "      <td>NaN</td>\n",
       "      <td>164.00000</td>\n",
       "      <td>40.000000</td>\n",
       "      <td>50.000000</td>\n",
       "    </tr>\n",
       "    <tr>\n",
       "      <th>max</th>\n",
       "      <td>1000.000000</td>\n",
       "      <td>NaN</td>\n",
       "      <td>NaN</td>\n",
       "      <td>NaN</td>\n",
       "      <td>NaN</td>\n",
       "      <td>1995.000000</td>\n",
       "      <td>50.000000</td>\n",
       "      <td>NaN</td>\n",
       "      <td>NaN</td>\n",
       "      <td>200.00000</td>\n",
       "      <td>50.000000</td>\n",
       "      <td>150.000000</td>\n",
       "    </tr>\n",
       "  </tbody>\n",
       "</table>\n",
       "</div>"
      ],
      "text/plain": [
       "           Order ID Customer ID Restaurant ID  Order Date and Time  \\\n",
       "count   1000.000000        1000          1000                 1000   \n",
       "unique          NaN         947           621                 1000   \n",
       "top             NaN       C7938         R2317  2024-02-01 01:11:52   \n",
       "freq            NaN           3             6                    1   \n",
       "mean     500.500000         NaN           NaN                  NaN   \n",
       "std      288.819436         NaN           NaN                  NaN   \n",
       "min        1.000000         NaN           NaN                  NaN   \n",
       "25%      250.750000         NaN           NaN                  NaN   \n",
       "50%      500.500000         NaN           NaN                  NaN   \n",
       "75%      750.250000         NaN           NaN                  NaN   \n",
       "max     1000.000000         NaN           NaN                  NaN   \n",
       "\n",
       "       Delivery Date and Time  Order Value  Delivery Fee    Payment Method  \\\n",
       "count                    1000  1000.000000   1000.000000              1000   \n",
       "unique                   1000          NaN           NaN                 3   \n",
       "top       2024-02-01 02:39:52          NaN           NaN  Cash on Delivery   \n",
       "freq                        1          NaN           NaN               357   \n",
       "mean                      NaN  1053.969000     28.620000               NaN   \n",
       "std                       NaN   530.975339     16.958278               NaN   \n",
       "min                       NaN   104.000000      0.000000               NaN   \n",
       "25%                       NaN   597.750000     20.000000               NaN   \n",
       "50%                       NaN  1038.500000     30.000000               NaN   \n",
       "75%                       NaN  1494.000000     40.000000               NaN   \n",
       "max                       NaN  1995.000000     50.000000               NaN   \n",
       "\n",
       "       Discounts and Offers  Commission Fee  Payment Processing Fee  \\\n",
       "count                   815      1000.00000             1000.000000   \n",
       "unique                    4             NaN                     NaN   \n",
       "top                     10%             NaN                     NaN   \n",
       "freq                    233             NaN                     NaN   \n",
       "mean                    NaN       126.99000               29.832000   \n",
       "std                     NaN        43.06405               11.627165   \n",
       "min                     NaN        50.00000               10.000000   \n",
       "25%                     NaN        90.00000               20.000000   \n",
       "50%                     NaN       127.00000               30.000000   \n",
       "75%                     NaN       164.00000               40.000000   \n",
       "max                     NaN       200.00000               50.000000   \n",
       "\n",
       "        Refunds/Chargebacks  \n",
       "count           1000.000000  \n",
       "unique                  NaN  \n",
       "top                     NaN  \n",
       "freq                    NaN  \n",
       "mean              28.300000  \n",
       "std               49.614228  \n",
       "min                0.000000  \n",
       "25%                0.000000  \n",
       "50%                0.000000  \n",
       "75%               50.000000  \n",
       "max              150.000000  "
      ]
     },
     "execution_count": 5,
     "metadata": {},
     "output_type": "execute_result"
    }
   ],
   "source": [
    "food.describe(include='all')"
   ]
  },
  {
   "cell_type": "markdown",
   "id": "9143ff99",
   "metadata": {},
   "source": [
    "# Data Cleaning"
   ]
  },
  {
   "cell_type": "code",
   "execution_count": 6,
   "id": "ccfe0eac",
   "metadata": {},
   "outputs": [],
   "source": [
    "food_cleaned = food.copy()"
   ]
  },
  {
   "cell_type": "code",
   "execution_count": 7,
   "id": "661e26c9",
   "metadata": {},
   "outputs": [
    {
     "data": {
      "text/plain": [
       "Order ID                    0\n",
       "Customer ID                 0\n",
       "Restaurant ID               0\n",
       "Order Date and Time         0\n",
       "Delivery Date and Time      0\n",
       "Order Value                 0\n",
       "Delivery Fee                0\n",
       "Payment Method              0\n",
       "Discounts and Offers      185\n",
       "Commission Fee              0\n",
       "Payment Processing Fee      0\n",
       "Refunds/Chargebacks         0\n",
       "dtype: int64"
      ]
     },
     "execution_count": 7,
     "metadata": {},
     "output_type": "execute_result"
    }
   ],
   "source": [
    "food_cleaned.isnull().sum()"
   ]
  },
  {
   "cell_type": "code",
   "execution_count": 8,
   "id": "1380e324",
   "metadata": {},
   "outputs": [],
   "source": [
    "food_cleaned.fillna(value=\"None\", inplace=True) \n",
    "# Replace NaN with None which means that the order didn't have any discount associated with it"
   ]
  },
  {
   "cell_type": "code",
   "execution_count": 9,
   "id": "2decdcc1",
   "metadata": {},
   "outputs": [
    {
     "data": {
      "text/plain": [
       "Order ID                  0\n",
       "Customer ID               0\n",
       "Restaurant ID             0\n",
       "Order Date and Time       0\n",
       "Delivery Date and Time    0\n",
       "Order Value               0\n",
       "Delivery Fee              0\n",
       "Payment Method            0\n",
       "Discounts and Offers      0\n",
       "Commission Fee            0\n",
       "Payment Processing Fee    0\n",
       "Refunds/Chargebacks       0\n",
       "dtype: int64"
      ]
     },
     "execution_count": 9,
     "metadata": {},
     "output_type": "execute_result"
    }
   ],
   "source": [
    "food_cleaned.isnull().sum()"
   ]
  },
  {
   "cell_type": "code",
   "execution_count": 10,
   "id": "a9f9f9c2",
   "metadata": {},
   "outputs": [
    {
     "data": {
      "text/html": [
       "<div>\n",
       "<style scoped>\n",
       "    .dataframe tbody tr th:only-of-type {\n",
       "        vertical-align: middle;\n",
       "    }\n",
       "\n",
       "    .dataframe tbody tr th {\n",
       "        vertical-align: top;\n",
       "    }\n",
       "\n",
       "    .dataframe thead th {\n",
       "        text-align: right;\n",
       "    }\n",
       "</style>\n",
       "<table border=\"1\" class=\"dataframe\">\n",
       "  <thead>\n",
       "    <tr style=\"text-align: right;\">\n",
       "      <th></th>\n",
       "      <th>Order ID</th>\n",
       "      <th>Customer ID</th>\n",
       "      <th>Restaurant ID</th>\n",
       "      <th>Order Date and Time</th>\n",
       "      <th>Delivery Date and Time</th>\n",
       "      <th>Order Value</th>\n",
       "      <th>Delivery Fee</th>\n",
       "      <th>Payment Method</th>\n",
       "      <th>Discounts and Offers</th>\n",
       "      <th>Commission Fee</th>\n",
       "      <th>Payment Processing Fee</th>\n",
       "      <th>Refunds/Chargebacks</th>\n",
       "    </tr>\n",
       "  </thead>\n",
       "  <tbody>\n",
       "    <tr>\n",
       "      <th>0</th>\n",
       "      <td>1</td>\n",
       "      <td>C8270</td>\n",
       "      <td>R2924</td>\n",
       "      <td>2024-02-01 01:11:52</td>\n",
       "      <td>2024-02-01 02:39:52</td>\n",
       "      <td>1914</td>\n",
       "      <td>0</td>\n",
       "      <td>Credit Card</td>\n",
       "      <td>5% on App</td>\n",
       "      <td>150</td>\n",
       "      <td>47</td>\n",
       "      <td>0</td>\n",
       "    </tr>\n",
       "    <tr>\n",
       "      <th>1</th>\n",
       "      <td>2</td>\n",
       "      <td>C1860</td>\n",
       "      <td>R2054</td>\n",
       "      <td>2024-02-02 22:11:04</td>\n",
       "      <td>2024-02-02 22:46:04</td>\n",
       "      <td>986</td>\n",
       "      <td>40</td>\n",
       "      <td>Digital Wallet</td>\n",
       "      <td>10%</td>\n",
       "      <td>198</td>\n",
       "      <td>23</td>\n",
       "      <td>0</td>\n",
       "    </tr>\n",
       "    <tr>\n",
       "      <th>2</th>\n",
       "      <td>3</td>\n",
       "      <td>C6390</td>\n",
       "      <td>R2870</td>\n",
       "      <td>2024-01-31 05:54:35</td>\n",
       "      <td>2024-01-31 06:52:35</td>\n",
       "      <td>937</td>\n",
       "      <td>30</td>\n",
       "      <td>Cash on Delivery</td>\n",
       "      <td>15% New User</td>\n",
       "      <td>195</td>\n",
       "      <td>45</td>\n",
       "      <td>0</td>\n",
       "    </tr>\n",
       "    <tr>\n",
       "      <th>3</th>\n",
       "      <td>4</td>\n",
       "      <td>C6191</td>\n",
       "      <td>R2642</td>\n",
       "      <td>2024-01-16 22:52:49</td>\n",
       "      <td>2024-01-16 23:38:49</td>\n",
       "      <td>1463</td>\n",
       "      <td>50</td>\n",
       "      <td>Cash on Delivery</td>\n",
       "      <td>None</td>\n",
       "      <td>146</td>\n",
       "      <td>27</td>\n",
       "      <td>0</td>\n",
       "    </tr>\n",
       "    <tr>\n",
       "      <th>4</th>\n",
       "      <td>5</td>\n",
       "      <td>C6734</td>\n",
       "      <td>R2799</td>\n",
       "      <td>2024-01-29 01:19:30</td>\n",
       "      <td>2024-01-29 02:48:30</td>\n",
       "      <td>1992</td>\n",
       "      <td>30</td>\n",
       "      <td>Cash on Delivery</td>\n",
       "      <td>50 off Promo</td>\n",
       "      <td>130</td>\n",
       "      <td>50</td>\n",
       "      <td>0</td>\n",
       "    </tr>\n",
       "  </tbody>\n",
       "</table>\n",
       "</div>"
      ],
      "text/plain": [
       "   Order ID Customer ID Restaurant ID  Order Date and Time  \\\n",
       "0         1       C8270         R2924  2024-02-01 01:11:52   \n",
       "1         2       C1860         R2054  2024-02-02 22:11:04   \n",
       "2         3       C6390         R2870  2024-01-31 05:54:35   \n",
       "3         4       C6191         R2642  2024-01-16 22:52:49   \n",
       "4         5       C6734         R2799  2024-01-29 01:19:30   \n",
       "\n",
       "  Delivery Date and Time  Order Value  Delivery Fee    Payment Method  \\\n",
       "0    2024-02-01 02:39:52         1914             0       Credit Card   \n",
       "1    2024-02-02 22:46:04          986            40    Digital Wallet   \n",
       "2    2024-01-31 06:52:35          937            30  Cash on Delivery   \n",
       "3    2024-01-16 23:38:49         1463            50  Cash on Delivery   \n",
       "4    2024-01-29 02:48:30         1992            30  Cash on Delivery   \n",
       "\n",
       "  Discounts and Offers  Commission Fee  Payment Processing Fee  \\\n",
       "0            5% on App             150                      47   \n",
       "1                  10%             198                      23   \n",
       "2         15% New User             195                      45   \n",
       "3                 None             146                      27   \n",
       "4         50 off Promo             130                      50   \n",
       "\n",
       "   Refunds/Chargebacks  \n",
       "0                    0  \n",
       "1                    0  \n",
       "2                    0  \n",
       "3                    0  \n",
       "4                    0  "
      ]
     },
     "execution_count": 10,
     "metadata": {},
     "output_type": "execute_result"
    }
   ],
   "source": [
    "food_cleaned.head(5)"
   ]
  },
  {
   "cell_type": "markdown",
   "id": "e4561f4a",
   "metadata": {},
   "source": [
    "- Convert “Order Date and Time” and “Delivery Date and Time” to a datetime format.\n",
    "- Convert “Discounts and Offers” to a consistent numeric value (if applicable) or calculate the discount amounts.\n",
    "- Ensure all monetary values are in a suitable format for calculations."
   ]
  },
  {
   "cell_type": "code",
   "execution_count": 11,
   "id": "9d17b018",
   "metadata": {},
   "outputs": [],
   "source": [
    "from datetime import datetime\n",
    "\n",
    "# Convert \"Order Date and Time\" and \"Delivery Date and Time\" to datetime object\n",
    "food_cleaned[\"Order Date and Time\"] = pd.to_datetime(food_cleaned[\"Order Date and Time\"])\n",
    "food_cleaned[\"Delivery Date and Time\"] = pd.to_datetime(food_cleaned[\"Delivery Date and Time\"])\n",
    "\n",
    "# 0) Create extract function to transform string into int\n",
    "def extract(discount):\n",
    "    # Percentage in discount\n",
    "    if \"%\" in discount: \n",
    "        return float(discount.split(\"%\")[0])\n",
    "    # \"off\" in discount\n",
    "    elif \"off\" in discount: \n",
    "        return float(discount.split(\" \")[0])\n",
    "    # no discount\n",
    "    else: \n",
    "        return 0\n",
    "\n",
    "# 1) Applying lambda function to create Discount Percentage feature\n",
    "food_cleaned[\"Discount Percentage\"] = food_cleaned[\"Discounts and Offers\"].apply(lambda x: extract(x))\n",
    "\n",
    "# 2) Calculate Discount Amount\n",
    "food_cleaned[\"Discount Amount\"] = food_cleaned[\"Order Value\"] * food_cleaned[\"Discount Percentage\"]/100"
   ]
  },
  {
   "cell_type": "code",
   "execution_count": 12,
   "id": "71df83ac",
   "metadata": {},
   "outputs": [
    {
     "name": "stdout",
     "output_type": "stream",
     "text": [
      "     Order Value  Discount Percentage  Discount Amount\n",
      "0           1914                  5.0            95.70\n",
      "1            986                 10.0            98.60\n",
      "2            937                 15.0           140.55\n",
      "3           1463                  0.0             0.00\n",
      "4           1992                 50.0           996.00\n",
      "..           ...                  ...              ...\n",
      "995          825                  5.0            41.25\n",
      "996         1627                  0.0             0.00\n",
      "997          553                  0.0             0.00\n",
      "998         1414                 15.0           212.10\n",
      "999         1657                 15.0           248.55\n",
      "\n",
      "[1000 rows x 3 columns] Order ID                           int64\n",
      "Customer ID                       object\n",
      "Restaurant ID                     object\n",
      "Order Date and Time       datetime64[ns]\n",
      "Delivery Date and Time    datetime64[ns]\n",
      "Order Value                        int64\n",
      "Delivery Fee                       int64\n",
      "Payment Method                    object\n",
      "Discounts and Offers              object\n",
      "Commission Fee                     int64\n",
      "Payment Processing Fee             int64\n",
      "Refunds/Chargebacks                int64\n",
      "Discount Percentage              float64\n",
      "Discount Amount                  float64\n",
      "dtype: object\n"
     ]
    }
   ],
   "source": [
    "print(food_cleaned[[\"Order Value\", \"Discount Percentage\", \"Discount Amount\"]], food_cleaned.dtypes)"
   ]
  },
  {
   "cell_type": "markdown",
   "id": "5f5a6f55",
   "metadata": {},
   "source": [
    "For the cost analysis, we’ll consider the following costs associated with each order:\n",
    "\n",
    "- Delivery Fee: The fee charged for delivering the order.\n",
    "- Payment Processing Fee: The fee for processing the payment.\n",
    "- Discount Amount: The discount provided on the order.\n",
    "\n",
    "We’ll calculate the total cost for the platform per order and then aggregate this data to understand the overall cost structure.\n",
    "\n",
    "The revenue for the platform is mainly derived from the Commission Fee. We’ll calculate the net profit by subtracting the total costs (including discounts) from the revenue generated through commission fees.\n",
    "\n",
    "Let’s proceed with the cost and profitability analysis:"
   ]
  },
  {
   "cell_type": "code",
   "execution_count": 13,
   "id": "37a26f92",
   "metadata": {},
   "outputs": [],
   "source": [
    "# Costs\n",
    "food_cleaned[\"Total Cost\"] = food_cleaned[\"Delivery Fee\"] + food_cleaned[\"Payment Processing Fee\"] + food_cleaned[\"Discount Amount\"]\n",
    "\n",
    "# Revenue is from Commission Fee (the fee that is charged on the restaurant)\n",
    "food_cleaned[\"Revenue\"] = food_cleaned[\"Commission Fee\"]\n",
    "\n",
    "# Profit = Revenue - Costs\n",
    "food_cleaned[\"Profit\"] = food_cleaned.Revenue - food_cleaned[\"Total Cost\"]"
   ]
  },
  {
   "cell_type": "code",
   "execution_count": 14,
   "id": "4671d06e",
   "metadata": {},
   "outputs": [
    {
     "data": {
      "text/html": [
       "<div>\n",
       "<style scoped>\n",
       "    .dataframe tbody tr th:only-of-type {\n",
       "        vertical-align: middle;\n",
       "    }\n",
       "\n",
       "    .dataframe tbody tr th {\n",
       "        vertical-align: top;\n",
       "    }\n",
       "\n",
       "    .dataframe thead th {\n",
       "        text-align: right;\n",
       "    }\n",
       "</style>\n",
       "<table border=\"1\" class=\"dataframe\">\n",
       "  <thead>\n",
       "    <tr style=\"text-align: right;\">\n",
       "      <th></th>\n",
       "      <th>Total Cost</th>\n",
       "      <th>Revenue</th>\n",
       "      <th>Profit</th>\n",
       "    </tr>\n",
       "  </thead>\n",
       "  <tbody>\n",
       "    <tr>\n",
       "      <th>0</th>\n",
       "      <td>142.70</td>\n",
       "      <td>150</td>\n",
       "      <td>7.30</td>\n",
       "    </tr>\n",
       "    <tr>\n",
       "      <th>1</th>\n",
       "      <td>161.60</td>\n",
       "      <td>198</td>\n",
       "      <td>36.40</td>\n",
       "    </tr>\n",
       "    <tr>\n",
       "      <th>2</th>\n",
       "      <td>215.55</td>\n",
       "      <td>195</td>\n",
       "      <td>-20.55</td>\n",
       "    </tr>\n",
       "    <tr>\n",
       "      <th>3</th>\n",
       "      <td>77.00</td>\n",
       "      <td>146</td>\n",
       "      <td>69.00</td>\n",
       "    </tr>\n",
       "    <tr>\n",
       "      <th>4</th>\n",
       "      <td>1076.00</td>\n",
       "      <td>130</td>\n",
       "      <td>-946.00</td>\n",
       "    </tr>\n",
       "    <tr>\n",
       "      <th>...</th>\n",
       "      <td>...</td>\n",
       "      <td>...</td>\n",
       "      <td>...</td>\n",
       "    </tr>\n",
       "    <tr>\n",
       "      <th>995</th>\n",
       "      <td>88.25</td>\n",
       "      <td>165</td>\n",
       "      <td>76.75</td>\n",
       "    </tr>\n",
       "    <tr>\n",
       "      <th>996</th>\n",
       "      <td>92.00</td>\n",
       "      <td>110</td>\n",
       "      <td>18.00</td>\n",
       "    </tr>\n",
       "    <tr>\n",
       "      <th>997</th>\n",
       "      <td>51.00</td>\n",
       "      <td>64</td>\n",
       "      <td>13.00</td>\n",
       "    </tr>\n",
       "    <tr>\n",
       "      <th>998</th>\n",
       "      <td>246.10</td>\n",
       "      <td>199</td>\n",
       "      <td>-47.10</td>\n",
       "    </tr>\n",
       "    <tr>\n",
       "      <th>999</th>\n",
       "      <td>295.55</td>\n",
       "      <td>180</td>\n",
       "      <td>-115.55</td>\n",
       "    </tr>\n",
       "  </tbody>\n",
       "</table>\n",
       "<p>1000 rows × 3 columns</p>\n",
       "</div>"
      ],
      "text/plain": [
       "     Total Cost  Revenue  Profit\n",
       "0        142.70      150    7.30\n",
       "1        161.60      198   36.40\n",
       "2        215.55      195  -20.55\n",
       "3         77.00      146   69.00\n",
       "4       1076.00      130 -946.00\n",
       "..          ...      ...     ...\n",
       "995       88.25      165   76.75\n",
       "996       92.00      110   18.00\n",
       "997       51.00       64   13.00\n",
       "998      246.10      199  -47.10\n",
       "999      295.55      180 -115.55\n",
       "\n",
       "[1000 rows x 3 columns]"
      ]
     },
     "execution_count": 14,
     "metadata": {},
     "output_type": "execute_result"
    }
   ],
   "source": [
    "food_cleaned[[\"Total Cost\", \"Revenue\", \"Profit\"]]"
   ]
  },
  {
   "cell_type": "code",
   "execution_count": 15,
   "id": "791da280",
   "metadata": {},
   "outputs": [],
   "source": [
    "# Aggregate data to get overall metrics\n",
    "total_orders = food_cleaned.shape[0]\n",
    "total_revenue = food_cleaned.Revenue.sum()\n",
    "total_cost = food_cleaned[\"Total Cost\"].sum()\n",
    "total_profit = food_cleaned.Profit.sum()"
   ]
  },
  {
   "cell_type": "code",
   "execution_count": 16,
   "id": "475da3ca",
   "metadata": {},
   "outputs": [],
   "source": [
    "overall_metric_dict = {\n",
    "    \"Total Orders\": total_orders,\n",
    "    \"Total Revenue\": total_revenue,\n",
    "    \"Total Cost\": total_cost,\n",
    "    \"Overall Profit\": total_profit,\n",
    "}"
   ]
  },
  {
   "cell_type": "code",
   "execution_count": 17,
   "id": "16c390fa",
   "metadata": {},
   "outputs": [
    {
     "data": {
      "text/plain": [
       "{'Total Orders': 1000,\n",
       " 'Total Revenue': 126990,\n",
       " 'Total Cost': 232709.85,\n",
       " 'Overall Profit': -105719.85}"
      ]
     },
     "execution_count": 17,
     "metadata": {},
     "output_type": "execute_result"
    }
   ],
   "source": [
    "overall_metric_dict # Loss - ขาดทุน"
   ]
  },
  {
   "cell_type": "markdown",
   "id": "5095d950",
   "metadata": {},
   "source": [
    "### ขาดทุน\n",
    "The analysis indicates that the total costs associated with the food delivery operations exceed the total revenue generated from commission fees, resulting in a net loss. It suggests that the current commission rates, delivery fees, and discount strategies might not be sustainable for profitability.\n",
    "\n",
    "First Phase of Model logic (assumption)\n",
    "- ยอมขาดทุนในช่วงแรกเพื่อดึงดูดผู้ใช้งาน ?\n",
    "- เพื่อเป็นที่นิยมในแวดวงนักสั่งอาหาร (ให้ discount เยอะ, ค่าบริการถูกกว่าเจ้าอื่น) ?\n",
    "- เมื่อมีฐานลูกค้ามากพอ (new + old & loyal customers) ค่อยพลิกกลับมากินกำไร ? ได้หรือป่าว ?"
   ]
  },
  {
   "cell_type": "markdown",
   "id": "5a678325",
   "metadata": {},
   "source": [
    "To better understand the distribution of costs, revenue, and profit, let’s plot:\n",
    "\n",
    "1. A histogram of profits per order to visualize the distribution of profitable and unprofitable orders.\n",
    "2. A pie chart to visualize the proportion of total costs (delivery fees, payment processing fees, and discounts).\n",
    "3. A bar chart to compare total revenue, total costs, and total profit"
   ]
  },
  {
   "cell_type": "markdown",
   "id": "60843281",
   "metadata": {},
   "source": [
    "Histogram of profits per order"
   ]
  },
  {
   "cell_type": "code",
   "execution_count": 18,
   "id": "d4bd00c2",
   "metadata": {},
   "outputs": [
    {
     "data": {
      "image/png": "[encoded data removed]",
      "text/plain": [
       "<Figure size 1000x800 with 1 Axes>"
      ]
     },
     "metadata": {},
     "output_type": "display_data"
    }
   ],
   "source": [
    "import matplotlib.pyplot as plt\n",
    "\n",
    "# histogram of profits per order\n",
    "plt.figure(figsize=(10,8))\n",
    "plt.hist(food_cleaned.Profit, bins=60, color=\"orange\", edgecolor=\"red\")\n",
    "plt.title(\"Profit Distribution per Order\")\n",
    "plt.xlabel(\"Profit\")\n",
    "plt.ylabel(\"Number of Orders\")\n",
    "plt.axvline(food_cleaned.Profit.mean(), label = \"Profit mean\", color=\"blue\", linestyle=\"--\", linewidth=2)\n",
    "plt.legend()\n",
    "plt.tight_layout()\n",
    "plt.show()"
   ]
  },
  {
   "cell_type": "markdown",
   "id": "ea802fd0",
   "metadata": {},
   "source": [
    "The histogram shows a wide distribution of profit per order, with a noticeable number of orders resulting in a loss (profits below 0). The dark blue dashed line indicates the average profit, which is in the negative territory, highlighting the overall loss-making situation."
   ]
  },
  {
   "cell_type": "markdown",
   "id": "98ce29a0",
   "metadata": {},
   "source": [
    "Now, let’s have a look at the proportion of total costs:"
   ]
  },
  {
   "cell_type": "code",
   "execution_count": 19,
   "id": "ea56f223",
   "metadata": {},
   "outputs": [
    {
     "data": {
      "text/plain": [
       "Delivery Fee               28620.00\n",
       "Payment Processing Fee     29832.00\n",
       "Discount Amount           174257.85\n",
       "dtype: float64"
      ]
     },
     "execution_count": 19,
     "metadata": {},
     "output_type": "execute_result"
    }
   ],
   "source": [
    "cost_breakdown = food_cleaned[['Delivery Fee', 'Payment Processing Fee', 'Discount Amount']].sum()\n",
    "cost_breakdown"
   ]
  },
  {
   "cell_type": "code",
   "execution_count": 20,
   "id": "0222839e",
   "metadata": {},
   "outputs": [
    {
     "data": {
      "image/png": "[encoded data removed]",
      "text/plain": [
       "<Figure size 1000x800 with 1 Axes>"
      ]
     },
     "metadata": {},
     "output_type": "display_data"
    }
   ],
   "source": [
    "# pie chart for the proportion of total costs\n",
    "cost_breakdown = food_cleaned[['Delivery Fee', 'Payment Processing Fee', 'Discount Amount']].sum()\n",
    "plt.figure(figsize=(10,8))\n",
    "plt.pie(cost_breakdown, labels=cost_breakdown.index, \n",
    "            autopct='%1.2f%%', startangle=90, \n",
    "            colors=['orange', 'skyblue', 'tomato'])\n",
    "plt.tight_layout()\n",
    "plt.show()"
   ]
  },
  {
   "cell_type": "markdown",
   "id": "cd8e3063",
   "metadata": {},
   "source": [
    "first phase of the delivery model: แจกโค้ดลดค่าอาหาร เพื่อดึงดูด new customers and keep old customers loyal; ขยายฐานลูกค้า"
   ]
  },
  {
   "cell_type": "markdown",
   "id": "0ef6a1a0",
   "metadata": {},
   "source": [
    "The pie chart illustrates the breakdown of total costs into delivery fees, payment processing fees, and discount amounts. Discounts constitute a significant portion of the costs, suggesting that <b>promotional strategies</b> might be heavily impacting overall profitability."
   ]
  },
  {
   "cell_type": "markdown",
   "id": "2f9ea5c4",
   "metadata": {},
   "source": [
    "Now, let’s compare total revenue, total costs, and total profit (net loss in our case):"
   ]
  },
  {
   "cell_type": "code",
   "execution_count": 21,
   "id": "2b4bdc5e",
   "metadata": {},
   "outputs": [
    {
     "data": {
      "image/png": "[encoded data removed]",
      "text/plain": [
       "<Figure size 1000x800 with 1 Axes>"
      ]
     },
     "metadata": {},
     "output_type": "display_data"
    }
   ],
   "source": [
    "# bar chart for total revenue, costs, and profit\n",
    "totals = ['Total Revenue', 'Total Costs', 'Total Profit']\n",
    "values = [total_revenue, total_cost, total_profit]\n",
    "\n",
    "plt.figure(figsize=(10,8))\n",
    "plt.bar(x=totals, height=values, color=['green', 'red', 'blue'])\n",
    "plt.title('Total Revenue, Costs, and Profit')\n",
    "plt.ylabel('Amount')\n",
    "plt.tight_layout()\n",
    "plt.show()"
   ]
  },
  {
   "cell_type": "markdown",
   "id": "e2e974dd",
   "metadata": {},
   "source": [
    "The bar chart compares total revenue, total costs, and total profit. It visually represents the gap between revenue and costs, clearly showing that the costs surpass the revenue, leading to a total loss."
   ]
  },
  {
   "cell_type": "markdown",
   "id": "bf20e1ea",
   "metadata": {},
   "source": [
    "## A New Strategy for Profits\n",
    "\n",
    "From the analysis so far we understood that the discounts on food orders are resulting in huge losses. Now, we need to find a new strategy for profitability. We need to find a sweet spot for offering discounts and charging commissions. To find a sweet spot for commission and discount percentages, we can analyze the characteristics of profitable orders more deeply. Specifically, we need to look for:\n",
    "\n",
    "1. A new average commission percentage based on profitable orders.\n",
    "2. A new average discount percentage for profitable orders, that could serve as a guideline for what level of discount still allows for profitability.\n",
    "\n",
    "Given these new averages, we can suggest adjustments that might not only make individual orders profitable but also apply broadly across all orders to improve overall profitability. Let’s calculate:\n",
    "\n",
    "- The average commission percentage for profitable orders.\n",
    "- The average discount percentage for profitable orders.\n"
   ]
  },
  {
   "cell_type": "code",
   "execution_count": 22,
   "id": "44a87059",
   "metadata": {},
   "outputs": [],
   "source": [
    "import warnings\n",
    "warnings.filterwarnings('ignore')"
   ]
  },
  {
   "cell_type": "code",
   "execution_count": 23,
   "id": "e597efce",
   "metadata": {},
   "outputs": [
    {
     "name": "stdout",
     "output_type": "stream",
     "text": [
      "Average Commission Percentage is: 30.51%\n",
      "\n",
      "Average Effective Discount Percentage is: 5.87%\n"
     ]
    }
   ],
   "source": [
    "# filter for profitable order\n",
    "profit_orders = food_cleaned[food_cleaned.Profit > 0]\n",
    "\n",
    "# calculate the average commission percentage for profitable orders\n",
    "profit_orders[\"Commission Percentage\"] = (profit_orders[\"Commission Fee\"] / profit_orders[\"Order Value\"]) * 100\n",
    "\n",
    "# calculate the average discount percentage for profitable orders (use Discount Amount because the old cost used discount amount as one of its variable, not the discount percentage)\n",
    "profit_orders[\"Effective Discount Percentage\"] = (profit_orders[\"Discount Amount\"] / profit_orders[\"Order Value\"]) * 100\n",
    "\n",
    "# calculate the new average\n",
    "avg_commission_percentage = profit_orders[\"Commission Percentage\"].mean()\n",
    "avg_eff_discount_percentage = profit_orders[\"Effective Discount Percentage\"].mean()\n",
    "\n",
    "print(f\"Average Commission Percentage is: {avg_commission_percentage:.2f}%\\n\")\n",
    "print(f\"Average Effective Discount Percentage is: {avg_eff_discount_percentage:.2f}%\") "
   ]
  },
  {
   "cell_type": "code",
   "execution_count": 24,
   "id": "fc70889c",
   "metadata": {},
   "outputs": [
    {
     "name": "stdout",
     "output_type": "stream",
     "text": [
      "Average Old Commission Percentage is: 19.75%\n",
      "\n",
      "Average Old Discount Percentage is: 16.27%\n"
     ]
    }
   ],
   "source": [
    "# old average commission percentage and discount percentage\n",
    "old_com = (food_cleaned['Commission Fee'] / food_cleaned['Order Value']) * 100\n",
    "old_discount = (food_cleaned['Discount Amount'] / food_cleaned['Order Value']) * 100\n",
    "\n",
    "avg_old_com = old_com.mean()\n",
    "avg_old_discount = old_discount.mean()\n",
    "\n",
    "print(f\"Average Old Commission Percentage is: {avg_old_com:.2f}%\\n\")\n",
    "print(f\"Average Old Discount Percentage is: {avg_old_discount:.2f}%\") "
   ]
  },
  {
   "cell_type": "markdown",
   "id": "313b6b0f",
   "metadata": {},
   "source": [
    "Based on the analysis of profitable orders, we find a new set of averages that could represent a “sweet spot” for commission and discount percentages:\n",
    "\n",
    "1. New Average Commission Percentage: 30.51%\n",
    "2. New Average Discount Percentage: 5.8%\n",
    "\n",
    "The average commission percentage for profitable orders is significantly higher than the overall average across all orders. It suggests that a higher commission rate on orders might be a key factor in achieving profitability. The average discount percentage for profitable orders is notably lower than the overall average, indicating that lower discounts might contribute to profitability without significantly deterring order volume.\n",
    "\n",
    "Based on this analysis, a strategy that aims for a commission rate closer to 30% and a discount rate around 5% could potentially improve profitability across the board."
   ]
  },
  {
   "cell_type": "markdown",
   "id": "8e01d31a",
   "metadata": {},
   "source": [
    "Now, let’s visualize a comparison of profitability using actual versus recommended discounts and commissions across all orders. For this, we need to:\n",
    "\n",
    "1. Calculate the profitability per order using the actual discounts and commissions already present in the dataset.\n",
    "2. Simulate profitability per order using the recommended discounts (5%) and commissions (30%) to see the potential impact on profitability.\n",
    "\n",
    "This comparison will help illustrate the potential impact of adopting the recommended discount and commission rates on the overall profitability of orders. Here’s how to visualize this comparison:"
   ]
  },
  {
   "cell_type": "code",
   "execution_count": 25,
   "id": "2bed388e",
   "metadata": {},
   "outputs": [
    {
     "data": {
      "image/png": "[encoded data removed]",
      "text/plain": [
       "<Figure size 1500x1200 with 1 Axes>"
      ]
     },
     "metadata": {},
     "output_type": "display_data"
    }
   ],
   "source": [
    "# simulate the profitability with recommended discounts and commission fee\n",
    "rec_com_per = 30.0 # 30%\n",
    "rec_dis_per = 5 # 5%\n",
    "\n",
    "# calculate the simulated commission fee and discount amount using recommended percentages\n",
    "food_cleaned[\"Recommended Commission Fee\"] = food_cleaned[\"Order Value\"] * (rec_com_per / 100)\n",
    "food_cleaned[\"Recommended Discount Percentage\"] = food_cleaned[\"Order Value\"] * (rec_dis_per / 100)\n",
    "\n",
    "# recalculate the total costs with simulated values\n",
    "food_cleaned['Simulated Total Costs'] = food_cleaned['Delivery Fee'] + food_cleaned['Payment Processing Fee'] + food_cleaned['Recommended Discount Percentage']\n",
    "\n",
    "# recalculate the total profit with simulated values (Revenue - Costs) and Revenue is the commission fee\n",
    "food_cleaned['Simulated Profit'] = food_cleaned['Recommended Commission Fee'] - food_cleaned['Simulated Total Costs']\n",
    "\n",
    "# visualizing the comparison\n",
    "import seaborn as sns\n",
    "\n",
    "plt.figure(figsize=(15,12))\n",
    "\n",
    "# Actual Profitability\n",
    "sns.kdeplot(food_cleaned['Profit'], label='Actual Profitability', fill=True, alpha=0.5, linewidth=2)\n",
    "\n",
    "# Simulated Profitability\n",
    "sns.kdeplot(food_cleaned['Simulated Profit'], label='Estimated (Simulated) Profitability with Recommended Values', fill=True, alpha=0.5, linewidth=2)\n",
    "\n",
    "plt.title(\"Comparison of Profitability in Food Delivery: Actual vs. Recommended Discounts and Commission\")\n",
    "plt.xlabel(\"Profit\")\n",
    "plt.ylabel(\"Density\")\n",
    "plt.legend(loc='upper left')\n",
    "plt.tight_layout()\n",
    "plt.show()"
   ]
  },
  {
   "cell_type": "markdown",
   "id": "eae87d7d",
   "metadata": {},
   "source": [
    "The visualization compares the distribution of profitability per order using actual discounts and commissions versus the simulated scenario with recommended discounts (5%) and commissions (30%).\n",
    "\n",
    "The actual profitability distribution shows a mix, with a significant portion of orders resulting in losses (profit < 0) and a broad spread of profit levels for orders. The simulated scenario suggests a shift towards higher profitability per order. The distribution is more skewed towards positive profit, indicating that the recommended adjustments could lead to a higher proportion of profitable orders.\n",
    "\n",
    "\n",
    "# Summary\n",
    "\n",
    "So, this is how you can analyze the cost and profitability of a food delivery company. Food Delivery Cost and Profitability Analysis involves examining all the costs associated with delivering food orders, from direct expenses like delivery fees and packaging to indirect expenses like discounts offered to customers and commission fees paid by restaurants. By juxtaposing these costs against the revenue generated (primarily through order values and commission fees), the analysis aims to provide insights into how profitable the food delivery service is on a per-order basis."
   ]
  },
  {
   "cell_type": "code",
   "execution_count": null,
   "id": "5e1da649",
   "metadata": {},
   "outputs": [],
   "source": [
    "# The End"
   ]
  }
 ],
 "metadata": {
  "kernelspec": {
   "display_name": "Python 3 (ipykernel)",
   "language": "python",
   "name": "python3"
  },
  "language_info": {
   "codemirror_mode": {
    "name": "ipython",
    "version": 3
   },
   "file_extension": ".py",
   "mimetype": "text/x-python",
   "name": "python",
   "nbconvert_exporter": "python",
   "pygments_lexer": "ipython3",
   "version": "3.11.5"
  }
 },
 "nbformat": 4,
 "nbformat_minor": 5
}
