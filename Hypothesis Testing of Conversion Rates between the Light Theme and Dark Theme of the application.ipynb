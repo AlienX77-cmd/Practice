{
 "cells": [
  {
   "cell_type": "markdown",
   "id": "f6ab81db",
   "metadata": {},
   "source": [
    "Hypothesis Testing is a statistical method used to make inferences or decisions about a population based on sample data. It starts with a null hypothesis (H0), which represents a default stance or no effect, and an alternative hypothesis (H1 or Ha), which represents what we aim to prove or expect to find. The process involves using sample data to determine whether to reject the null hypothesis in favor of the alternative hypothesis, based on the likelihood of observing the sample data under the null hypothesis. "
   ]
  },
  {
   "cell_type": "markdown",
   "id": "715867cb",
   "metadata": {},
   "source": [
    "Hypothesis Testing: <b>Process We Can Follow</b>\n",
    "\n",
    "So, Hypothesis Testing is a fundamental process in data science for making data-driven decisions and inferences about populations based on sample data. Below is the process we can follow for the task of Hypothesis Testing:\n",
    "\n",
    "1. Gather the necessary data required for the hypothesis test.\n",
    "2. Define Null (H0) and Alternative Hypothesis (H1 or Ha).\n",
    "3. Choose the Significance Level (α), which is the probability of rejecting the null hypothesis when it is true. (let alpha be the probability of rejecting the null hypothesis)\n",
    "4. Select the appropriate statistical tests. Examples include t-tests for comparing means, chi-square tests for categorical data, and ANOVA for comparing means across more than two groups.\n",
    "5. Perform the chosen statistical test on your data.\n",
    "6. Determine the p-value and interpret the results of your statistical tests."
   ]
  },
  {
   "cell_type": "code",
   "execution_count": 1,
   "id": "c336fd62",
   "metadata": {},
   "outputs": [],
   "source": [
    "import pandas as pd\n",
    "from scipy.stats import ttest_ind\n",
    "\n",
    "df = pd.read_csv(\"website_ab_test.csv\")"
   ]
  },
  {
   "cell_type": "code",
   "execution_count": 2,
   "id": "0a184be8",
   "metadata": {},
   "outputs": [
    {
     "data": {
      "text/html": [
       "<div>\n",
       "<style scoped>\n",
       "    .dataframe tbody tr th:only-of-type {\n",
       "        vertical-align: middle;\n",
       "    }\n",
       "\n",
       "    .dataframe tbody tr th {\n",
       "        vertical-align: top;\n",
       "    }\n",
       "\n",
       "    .dataframe thead th {\n",
       "        text-align: right;\n",
       "    }\n",
       "</style>\n",
       "<table border=\"1\" class=\"dataframe\">\n",
       "  <thead>\n",
       "    <tr style=\"text-align: right;\">\n",
       "      <th></th>\n",
       "      <th>Theme</th>\n",
       "      <th>Click Through Rate</th>\n",
       "      <th>Conversion Rate</th>\n",
       "      <th>Bounce Rate</th>\n",
       "      <th>Scroll_Depth</th>\n",
       "      <th>Age</th>\n",
       "      <th>Location</th>\n",
       "      <th>Session_Duration</th>\n",
       "      <th>Purchases</th>\n",
       "      <th>Added_to_Cart</th>\n",
       "    </tr>\n",
       "  </thead>\n",
       "  <tbody>\n",
       "    <tr>\n",
       "      <th>0</th>\n",
       "      <td>Light Theme</td>\n",
       "      <td>0.054920</td>\n",
       "      <td>0.282367</td>\n",
       "      <td>0.405085</td>\n",
       "      <td>72.489458</td>\n",
       "      <td>25</td>\n",
       "      <td>Chennai</td>\n",
       "      <td>1535</td>\n",
       "      <td>No</td>\n",
       "      <td>Yes</td>\n",
       "    </tr>\n",
       "    <tr>\n",
       "      <th>1</th>\n",
       "      <td>Light Theme</td>\n",
       "      <td>0.113932</td>\n",
       "      <td>0.032973</td>\n",
       "      <td>0.732759</td>\n",
       "      <td>61.858568</td>\n",
       "      <td>19</td>\n",
       "      <td>Pune</td>\n",
       "      <td>303</td>\n",
       "      <td>No</td>\n",
       "      <td>Yes</td>\n",
       "    </tr>\n",
       "    <tr>\n",
       "      <th>2</th>\n",
       "      <td>Dark Theme</td>\n",
       "      <td>0.323352</td>\n",
       "      <td>0.178763</td>\n",
       "      <td>0.296543</td>\n",
       "      <td>45.737376</td>\n",
       "      <td>47</td>\n",
       "      <td>Chennai</td>\n",
       "      <td>563</td>\n",
       "      <td>Yes</td>\n",
       "      <td>Yes</td>\n",
       "    </tr>\n",
       "    <tr>\n",
       "      <th>3</th>\n",
       "      <td>Light Theme</td>\n",
       "      <td>0.485836</td>\n",
       "      <td>0.325225</td>\n",
       "      <td>0.245001</td>\n",
       "      <td>76.305298</td>\n",
       "      <td>58</td>\n",
       "      <td>Pune</td>\n",
       "      <td>385</td>\n",
       "      <td>Yes</td>\n",
       "      <td>No</td>\n",
       "    </tr>\n",
       "    <tr>\n",
       "      <th>4</th>\n",
       "      <td>Light Theme</td>\n",
       "      <td>0.034783</td>\n",
       "      <td>0.196766</td>\n",
       "      <td>0.765100</td>\n",
       "      <td>48.927407</td>\n",
       "      <td>25</td>\n",
       "      <td>New Delhi</td>\n",
       "      <td>1437</td>\n",
       "      <td>No</td>\n",
       "      <td>No</td>\n",
       "    </tr>\n",
       "  </tbody>\n",
       "</table>\n",
       "</div>"
      ],
      "text/plain": [
       "         Theme  Click Through Rate  Conversion Rate  Bounce Rate  \\\n",
       "0  Light Theme            0.054920         0.282367     0.405085   \n",
       "1  Light Theme            0.113932         0.032973     0.732759   \n",
       "2   Dark Theme            0.323352         0.178763     0.296543   \n",
       "3  Light Theme            0.485836         0.325225     0.245001   \n",
       "4  Light Theme            0.034783         0.196766     0.765100   \n",
       "\n",
       "   Scroll_Depth  Age   Location  Session_Duration Purchases Added_to_Cart  \n",
       "0     72.489458   25    Chennai              1535        No           Yes  \n",
       "1     61.858568   19       Pune               303        No           Yes  \n",
       "2     45.737376   47    Chennai               563       Yes           Yes  \n",
       "3     76.305298   58       Pune               385       Yes            No  \n",
       "4     48.927407   25  New Delhi              1437        No            No  "
      ]
     },
     "execution_count": 2,
     "metadata": {},
     "output_type": "execute_result"
    }
   ],
   "source": [
    "df.head(5)"
   ]
  },
  {
   "cell_type": "markdown",
   "id": "51d2da8f",
   "metadata": {},
   "source": [
    "So, the dataset is based on the performance of two themes on a website. Our task is to find which theme performs better using Hypothesis Testing. Let’s go through the summary of the dataset, including the number of records, the presence of missing values, and basic statistics for the numerical columns:"
   ]
  },
  {
   "cell_type": "code",
   "execution_count": 20,
   "id": "c234ebde",
   "metadata": {},
   "outputs": [],
   "source": [
    "# Dataset summary\n",
    "\n",
    "summary = {\n",
    "    'Number of Records': df.shape[0],\n",
    "    'Number of Columns': df.shape[1],\n",
    "    'Missing Values': df.isnull().sum(),\n",
    "    'Numerical Columns Summary': df.describe(include='all')\n",
    "}"
   ]
  },
  {
   "cell_type": "code",
   "execution_count": 22,
   "id": "45c6336b",
   "metadata": {},
   "outputs": [
    {
     "data": {
      "text/plain": [
       "{'Number of Records': 1000,\n",
       " 'Number of Columns': 10,\n",
       " 'Missing Values': Theme                 0\n",
       " Click Through Rate    0\n",
       " Conversion Rate       0\n",
       " Bounce Rate           0\n",
       " Scroll_Depth          0\n",
       " Age                   0\n",
       " Location              0\n",
       " Session_Duration      0\n",
       " Purchases             0\n",
       " Added_to_Cart         0\n",
       " dtype: int64,\n",
       " 'Numerical Columns Summary':              Theme  Click Through Rate  Conversion Rate  Bounce Rate  \\\n",
       " count         1000         1000.000000      1000.000000  1000.000000   \n",
       " unique           2                 NaN              NaN          NaN   \n",
       " top     Dark Theme                 NaN              NaN          NaN   \n",
       " freq           514                 NaN              NaN          NaN   \n",
       " mean           NaN            0.256048         0.253312     0.505758   \n",
       " std            NaN            0.139265         0.139092     0.172195   \n",
       " min            NaN            0.010767         0.010881     0.200720   \n",
       " 25%            NaN            0.140794         0.131564     0.353609   \n",
       " 50%            NaN            0.253715         0.252823     0.514049   \n",
       " 75%            NaN            0.370674         0.373040     0.648557   \n",
       " max            NaN            0.499989         0.498916     0.799658   \n",
       " \n",
       "         Scroll_Depth          Age Location  Session_Duration Purchases  \\\n",
       " count    1000.000000  1000.000000     1000       1000.000000      1000   \n",
       " unique           NaN          NaN        5               NaN         2   \n",
       " top              NaN          NaN  Chennai               NaN       Yes   \n",
       " freq             NaN          NaN      216               NaN       517   \n",
       " mean       50.319494    41.528000      NaN        924.999000       NaN   \n",
       " std        16.895269    14.114334      NaN        508.231723       NaN   \n",
       " min        20.011738    18.000000      NaN         38.000000       NaN   \n",
       " 25%        35.655167    29.000000      NaN        466.500000       NaN   \n",
       " 50%        51.130712    42.000000      NaN        931.000000       NaN   \n",
       " 75%        64.666258    54.000000      NaN       1375.250000       NaN   \n",
       " max        79.997108    65.000000      NaN       1797.000000       NaN   \n",
       " \n",
       "        Added_to_Cart  \n",
       " count           1000  \n",
       " unique             2  \n",
       " top              Yes  \n",
       " freq             526  \n",
       " mean             NaN  \n",
       " std              NaN  \n",
       " min              NaN  \n",
       " 25%              NaN  \n",
       " 50%              NaN  \n",
       " 75%              NaN  \n",
       " max              NaN  }"
      ]
     },
     "execution_count": 22,
     "metadata": {},
     "output_type": "execute_result"
    }
   ],
   "source": [
    "summary"
   ]
  },
  {
   "cell_type": "markdown",
   "id": "0b79711c",
   "metadata": {},
   "source": [
    "The dataset contains 1,000 records across 10 columns, with no missing values. Here’s a quick summary of the numerical columns:\n",
    "\n",
    "1. Click Through Rate: Ranges from about 0.01 to 0.50 with a mean of approximately 0.26.\n",
    "2. Conversion Rate: Also ranges from about 0.01 to 0.50 with a mean close to the Click Through Rate, approximately 0.25.\n",
    "3. Bounce Rate: Varies between 0.20 and 0.80, with a mean around 0.51.\n",
    "4. Scroll Depth: Shows a spread from 20.01 to nearly 80, with a mean of 50.32.\n",
    "5. Age: The age of users ranges from 18 to 65 years, with a mean age of about 41.5 years.\n",
    "6. Session Duration: This varies widely from 38 seconds to nearly 1800 seconds (30 minutes), with a mean session duration of approximately 925 seconds (about 15 minutes)"
   ]
  },
  {
   "cell_type": "markdown",
   "id": "2c75aeec",
   "metadata": {},
   "source": [
    "Now, let’s move on to comparing the performance of both themes based on the provided metrics. We’ll look into the average Click Through Rate, Conversion Rate, Bounce Rate, and other relevant metrics for each theme. Afterwards, we can perform hypothesis testing to identify if there’s a statistically significant difference between the themes:"
   ]
  },
  {
   "cell_type": "code",
   "execution_count": 41,
   "id": "bdbecd4a",
   "metadata": {},
   "outputs": [
    {
     "name": "stdout",
     "output_type": "stream",
     "text": [
      "<class 'pandas.core.frame.DataFrame'>\n",
      "RangeIndex: 1000 entries, 0 to 999\n",
      "Data columns (total 10 columns):\n",
      " #   Column              Non-Null Count  Dtype  \n",
      "---  ------              --------------  -----  \n",
      " 0   Theme               1000 non-null   object \n",
      " 1   Click Through Rate  1000 non-null   float64\n",
      " 2   Conversion Rate     1000 non-null   float64\n",
      " 3   Bounce Rate         1000 non-null   float64\n",
      " 4   Scroll_Depth        1000 non-null   float64\n",
      " 5   Age                 1000 non-null   int64  \n",
      " 6   Location            1000 non-null   object \n",
      " 7   Session_Duration    1000 non-null   int64  \n",
      " 8   Purchases           1000 non-null   object \n",
      " 9   Added_to_Cart       1000 non-null   object \n",
      "dtypes: float64(4), int64(2), object(4)\n",
      "memory usage: 78.3+ KB\n"
     ]
    }
   ],
   "source": [
    "df.info()"
   ]
  },
  {
   "cell_type": "code",
   "execution_count": 45,
   "id": "e6a092ff",
   "metadata": {},
   "outputs": [],
   "source": [
    "# grouping data by theme and calculating mean values:\n",
    "\n",
    "# 0) Select only Numerical Features first; other wise can't find mean !\n",
    "theme_performance = df[[\"Theme\", \"Click Through Rate\", \"Conversion Rate\",\n",
    "                        \"Bounce Rate\", \"Scroll_Depth\", \"Age\", \n",
    "                        \"Session_Duration\"]]\n",
    "\n",
    "# 1) groupby theme and find the mean\n",
    "theme_performance = theme_performance.groupby('Theme').mean()"
   ]
  },
  {
   "cell_type": "code",
   "execution_count": 46,
   "id": "065037e3",
   "metadata": {},
   "outputs": [
    {
     "data": {
      "text/html": [
       "<div>\n",
       "<style scoped>\n",
       "    .dataframe tbody tr th:only-of-type {\n",
       "        vertical-align: middle;\n",
       "    }\n",
       "\n",
       "    .dataframe tbody tr th {\n",
       "        vertical-align: top;\n",
       "    }\n",
       "\n",
       "    .dataframe thead th {\n",
       "        text-align: right;\n",
       "    }\n",
       "</style>\n",
       "<table border=\"1\" class=\"dataframe\">\n",
       "  <thead>\n",
       "    <tr style=\"text-align: right;\">\n",
       "      <th></th>\n",
       "      <th>Click Through Rate</th>\n",
       "      <th>Conversion Rate</th>\n",
       "      <th>Bounce Rate</th>\n",
       "      <th>Scroll_Depth</th>\n",
       "      <th>Age</th>\n",
       "      <th>Session_Duration</th>\n",
       "    </tr>\n",
       "    <tr>\n",
       "      <th>Theme</th>\n",
       "      <th></th>\n",
       "      <th></th>\n",
       "      <th></th>\n",
       "      <th></th>\n",
       "      <th></th>\n",
       "      <th></th>\n",
       "    </tr>\n",
       "  </thead>\n",
       "  <tbody>\n",
       "    <tr>\n",
       "      <th>Dark Theme</th>\n",
       "      <td>0.264501</td>\n",
       "      <td>0.251282</td>\n",
       "      <td>0.512115</td>\n",
       "      <td>49.926404</td>\n",
       "      <td>41.332685</td>\n",
       "      <td>919.482490</td>\n",
       "    </tr>\n",
       "    <tr>\n",
       "      <th>Light Theme</th>\n",
       "      <td>0.247109</td>\n",
       "      <td>0.255459</td>\n",
       "      <td>0.499035</td>\n",
       "      <td>50.735232</td>\n",
       "      <td>41.734568</td>\n",
       "      <td>930.833333</td>\n",
       "    </tr>\n",
       "  </tbody>\n",
       "</table>\n",
       "</div>"
      ],
      "text/plain": [
       "             Click Through Rate  Conversion Rate  Bounce Rate  Scroll_Depth  \\\n",
       "Theme                                                                         \n",
       "Dark Theme             0.264501         0.251282     0.512115     49.926404   \n",
       "Light Theme            0.247109         0.255459     0.499035     50.735232   \n",
       "\n",
       "                   Age  Session_Duration  \n",
       "Theme                                     \n",
       "Dark Theme   41.332685        919.482490  \n",
       "Light Theme  41.734568        930.833333  "
      ]
     },
     "execution_count": 46,
     "metadata": {},
     "output_type": "execute_result"
    }
   ],
   "source": [
    "theme_performance"
   ]
  },
  {
   "cell_type": "code",
   "execution_count": 52,
   "id": "8f1e2311",
   "metadata": {},
   "outputs": [
    {
     "data": {
      "text/plain": [
       "Index(['Click Through Rate', 'Conversion Rate', 'Bounce Rate', 'Scroll_Depth',\n",
       "       'Age', 'Session_Duration'],\n",
       "      dtype='object')"
      ]
     },
     "execution_count": 52,
     "metadata": {},
     "output_type": "execute_result"
    }
   ],
   "source": [
    "theme_performance.columns"
   ]
  },
  {
   "cell_type": "markdown",
   "id": "40709425",
   "metadata": {},
   "source": [
    "The comparison between the Light Theme and Dark Theme on average performance metrics reveals the following insights:\n",
    "\n",
    "- Click Through Rate (CTR): The Dark Theme has a slightly higher average CTR (0.2645) compared to the Light Theme (0.2471).\n",
    "- Conversion Rate: The Light Theme leads with a marginally higher average Conversion Rate (0.2555) compared to the Dark Theme (0.2513).\n",
    "- Bounce Rate: The Bounce Rate is slightly higher for the Dark Theme (0.5121) than for the Light Theme (0.4990).\n",
    "- Scroll Depth: Users on the Light Theme scroll slightly further on average (50.74%) compared to those on the Dark Theme (49.93%).\n",
    "- Age: The average age of users is similar across themes, with the Light Theme at approximately 41.73 years and the Dark Theme at 41.33 years.\n",
    "- Session Duration: The average session duration is slightly longer for users on the Light Theme (930.83 seconds) than for those on the Dark Theme (919.48 seconds).\n",
    "\n",
    "From these insights, it appears that the Light Theme slightly outperforms the Dark Theme in terms of Conversion Rate, Bounce Rate, Scroll Depth, and Session Duration, while the Dark Theme leads in Click Through Rate. However, the differences are relatively minor across all metrics."
   ]
  },
  {
   "cell_type": "markdown",
   "id": "9cedc999",
   "metadata": {},
   "source": [
    "# Getting Started with Hypothesis Testing\n",
    "\n",
    "We’ll use a significance level (alpha) of 0.05 for our hypothesis testing. It means we’ll consider a result statistically significant if the p-value from our test is less than 0.05.\n",
    "\n",
    "Let’s start with hypothesis testing based on the Conversion Rate between the Light Theme and Dark Theme. Our hypotheses are as follows:\n",
    "\n",
    "- Null Hypothesis (H0​): There is no difference in Conversion Rates between the Light Theme and Dark Theme.\n",
    "- Alternative Hypothesis (Ha​): There is a difference in Conversion Rates between the Light Theme and Dark Theme.\n",
    "\n",
    "We’ll use a two-sample t-test to compare the means of the two independent samples. Let’s proceed with the test:"
   ]
  },
  {
   "cell_type": "code",
   "execution_count": 48,
   "id": "6a9ae4a5",
   "metadata": {},
   "outputs": [],
   "source": [
    "# 0) extracting conversion rates for both themes\n",
    "conversion_rates_light = df[df['Theme'] == 'Light Theme']['Conversion Rate']\n",
    "conversion_rates_dark = df[df['Theme'] == 'Dark Theme']['Conversion Rate']\n",
    "\n",
    "# 1) performing a two-sample t-test\n",
    "t_stat, p_value = ttest_ind(conversion_rates_light, conversion_rates_dark, equal_var=False)"
   ]
  },
  {
   "cell_type": "code",
   "execution_count": 49,
   "id": "b3522a94",
   "metadata": {},
   "outputs": [
    {
     "data": {
      "text/plain": [
       "(0.4748494462782632, 0.6349982678451778)"
      ]
     },
     "execution_count": 49,
     "metadata": {},
     "output_type": "execute_result"
    }
   ],
   "source": [
    "t_stat, p_value"
   ]
  },
  {
   "cell_type": "markdown",
   "id": "b9fbc748",
   "metadata": {},
   "source": [
    "The result of the two-sample t-test gives a p-value of approximately 0.635. Since this p-value is much greater than our significance level of 0.05, we do not have enough evidence to reject the null hypothesis. (We will accept Null hypothesis if p-value < 0.05. Hence accepting the alternative hypothesis in that case). Therefore, we conclude that there is no statistically significant difference in Conversion Rates between the Light Theme and Dark Theme based on the data provided. (In this case, we accept the Null hypothesis and reject Alternative hypothesis)\n",
    "\n",
    "Now, let’s conduct hypothesis testing based on the Click Through Rate (CTR) to see if there’s a statistically significant difference between the Light Theme and Dark Theme regarding how often users click through. Our hypotheses remain structured similarly:\n",
    "\n",
    "- Null Hypothesis (H0​): There is no difference in Click Through Rates between the Light Theme and Dark Theme.\n",
    "- Alternative Hypothesis (Ha​): There is a difference in Click Rates between the Light Theme and Dark Theme.\n"
   ]
  },
  {
   "cell_type": "code",
   "execution_count": 50,
   "id": "bdac8c98",
   "metadata": {},
   "outputs": [],
   "source": [
    "# 0) extracting conversion rates for both themes\n",
    "CTR_light = df[df['Theme'] == 'Light Theme']['Click Through Rate']\n",
    "CTR_dark = df[df['Theme'] == 'Dark Theme']['Click Through Rate']\n",
    "\n",
    "# 1) performing a two-sample t-test\n",
    "t_stat_CTR, p_value_CTR = ttest_ind(CTR_light, CTR_dark, equal_var=False)"
   ]
  },
  {
   "cell_type": "code",
   "execution_count": 51,
   "id": "b86d4d59",
   "metadata": {},
   "outputs": [
    {
     "data": {
      "text/plain": [
       "(-1.9781708664172253, 0.04818435371010704)"
      ]
     },
     "execution_count": 51,
     "metadata": {},
     "output_type": "execute_result"
    }
   ],
   "source": [
    "t_stat_CTR, p_value_CTR"
   ]
  },
  {
   "cell_type": "markdown",
   "id": "bd601347",
   "metadata": {},
   "source": [
    "The two-sample t-test for the Click Through Rate (CTR) between the Light Theme and Dark Theme yields a p-value of approximately 0.048. This p-value is slightly below our significance level of 0.05, indicating that there is a statistically significant difference in Click Through Rates between the Light Theme and Dark Theme, with the Dark Theme likely having a higher CTR given the direction of the test statistic."
   ]
  },
  {
   "cell_type": "markdown",
   "id": "71ee3309",
   "metadata": {},
   "source": [
    "Now, let's perform Hypothesis Testing based on all metrics"
   ]
  },
  {
   "cell_type": "code",
   "execution_count": 55,
   "id": "d9c7e392",
   "metadata": {},
   "outputs": [
    {
     "name": "stdout",
     "output_type": "stream",
     "text": [
      "Click Through Rate: t-stat: -1.9782, p-value: 0.0482\n",
      "Conversion Rate: t-stat: 0.4748, p-value: 0.6350\n",
      "Bounce Rate: t-stat: -1.2019, p-value: 0.2297\n",
      "Scroll_Depth: t-stat: 0.7562, p-value: 0.4497\n",
      "Age: t-stat: 0.4501, p-value: 0.6528\n",
      "Session_Duration: t-stat: 0.3529, p-value: 0.7242\n"
     ]
    }
   ],
   "source": [
    "for feature in theme_performance.columns:\n",
    "    print(f\"{feature}: \",end='')\n",
    "    \n",
    "    # 0) extracting 'feature' for both themes\n",
    "    light = df[df['Theme'] == 'Light Theme'][feature]\n",
    "    dark = df[df['Theme'] == 'Dark Theme'][feature]\n",
    "    \n",
    "    # 1) performing a two-sample t-test\n",
    "    t_stat, p_value = ttest_ind(light, dark, equal_var=False)\n",
    "    print(f\"t-stat: {t_stat:.4f}, p-value: {p_value:.4f}\")"
   ]
  },
  {
   "cell_type": "code",
   "execution_count": 57,
   "id": "d53b4fe3",
   "metadata": {},
   "outputs": [
    {
     "data": {
      "text/html": [
       "<div>\n",
       "<style scoped>\n",
       "    .dataframe tbody tr th:only-of-type {\n",
       "        vertical-align: middle;\n",
       "    }\n",
       "\n",
       "    .dataframe tbody tr th {\n",
       "        vertical-align: top;\n",
       "    }\n",
       "\n",
       "    .dataframe thead th {\n",
       "        text-align: right;\n",
       "    }\n",
       "</style>\n",
       "<table border=\"1\" class=\"dataframe\">\n",
       "  <thead>\n",
       "    <tr style=\"text-align: right;\">\n",
       "      <th></th>\n",
       "      <th>Metric</th>\n",
       "      <th>T-Statistic</th>\n",
       "      <th>P-Value</th>\n",
       "    </tr>\n",
       "  </thead>\n",
       "  <tbody>\n",
       "    <tr>\n",
       "      <th>0</th>\n",
       "      <td>Click Through Rate</td>\n",
       "      <td>-1.978171</td>\n",
       "      <td>0.048184</td>\n",
       "    </tr>\n",
       "    <tr>\n",
       "      <th>1</th>\n",
       "      <td>Conversion Rate</td>\n",
       "      <td>0.352912</td>\n",
       "      <td>0.724229</td>\n",
       "    </tr>\n",
       "    <tr>\n",
       "      <th>2</th>\n",
       "      <td>Bounce Rate</td>\n",
       "      <td>-1.201888</td>\n",
       "      <td>0.229692</td>\n",
       "    </tr>\n",
       "    <tr>\n",
       "      <th>3</th>\n",
       "      <td>Scroll Depth</td>\n",
       "      <td>0.756228</td>\n",
       "      <td>0.449692</td>\n",
       "    </tr>\n",
       "  </tbody>\n",
       "</table>\n",
       "</div>"
      ],
      "text/plain": [
       "               Metric  T-Statistic   P-Value\n",
       "0  Click Through Rate    -1.978171  0.048184\n",
       "1     Conversion Rate     0.352912  0.724229\n",
       "2         Bounce Rate    -1.201888  0.229692\n",
       "3        Scroll Depth     0.756228  0.449692"
      ]
     },
     "execution_count": 57,
     "metadata": {},
     "output_type": "execute_result"
    }
   ],
   "source": [
    "# or creating a dataframe\n",
    "\n",
    "# extracting bounce rates for both themes\n",
    "bounce_rates_light = df[df['Theme'] == 'Light Theme']['Bounce Rate']\n",
    "bounce_rates_dark = df[df['Theme'] == 'Dark Theme']['Bounce Rate']\n",
    "\n",
    "# performing a two-sample t-test for bounce rate\n",
    "t_stat_bounce, p_value_bounce = ttest_ind(bounce_rates_light, bounce_rates_dark, equal_var=False)\n",
    "\n",
    "# extracting scroll depths for both themes\n",
    "scroll_depth_light = df[df['Theme'] == 'Light Theme']['Scroll_Depth']\n",
    "scroll_depth_dark = df[df['Theme'] == 'Dark Theme']['Scroll_Depth']\n",
    "\n",
    "# performing a two-sample t-test for scroll depth\n",
    "t_stat_scroll, p_value_scroll = ttest_ind(scroll_depth_light, scroll_depth_dark, equal_var=False)\n",
    "\n",
    "# creating a table for comparison\n",
    "comparison_table = pd.DataFrame({\n",
    "    'Metric': ['Click Through Rate', 'Conversion Rate', 'Bounce Rate', 'Scroll Depth'],\n",
    "    'T-Statistic': [t_stat_CTR, t_stat, t_stat_bounce, t_stat_scroll],\n",
    "    'P-Value': [p_value_CTR, p_value, p_value_bounce, p_value_scroll]\n",
    "})\n",
    "\n",
    "comparison_table"
   ]
  },
  {
   "cell_type": "markdown",
   "id": "3b7efc84",
   "metadata": {},
   "source": [
    "- Click Through Rate: The test reveals a statistically significant difference, with the Dark Theme likely performing better (P-Value = 0.048).\n",
    "- Conversion Rate: No statistically significant difference was found (P-Value = 0.635).\n",
    "- Bounce Rate: There’s no statistically significant difference in Bounce Rates between the themes (P-Value = 0.230).\n",
    "- Scroll Depth: Similarly, no statistically significant difference is observed in Scroll Depths (P-Value = 0.450).\n",
    "- Age: No statistically significant difference is observed in Age (P-Value = 0.6528).\n",
    "- Session Duration: No statistically significant difference is observed in Session Duration (P-Value = 0.7242).\n",
    "\n",
    "In summary, while the two themes perform similarly across most metrics, the Dark Theme has a slight edge in terms of engaging users to click through. For other key performance indicators like Conversion Rate, Bounce Rate, and Scroll Depth, the choice between a Light Theme and a Dark Theme does not significantly affect user behaviour according to the data provided."
   ]
  },
  {
   "cell_type": "markdown",
   "id": "225c8d76",
   "metadata": {},
   "source": [
    "# Summary\n",
    "\n",
    "So, Hypothesis Testing is a statistical method used to make inferences or decisions about a population based on sample data. It starts with a null hypothesis (H0), which represents a default stance or no effect, and an alternative hypothesis (H1 or Ha), which represents what we aim to prove or expect to find. The process involves using sample data to determine whether to reject the null hypothesis in favor of the alternative hypothesis, based on the likelihood of observing the sample data under the null hypothesis."
   ]
  },
  {
   "cell_type": "markdown",
   "id": "d0c41a09",
   "metadata": {},
   "source": [
    "Reference: https://thecleverprogrammer.com/2024/03/25/hypothesis-testing-using-python/"
   ]
  }
 ],
 "metadata": {
  "kernelspec": {
   "display_name": "Python 3 (ipykernel)",
   "language": "python",
   "name": "python3"
  },
  "language_info": {
   "codemirror_mode": {
    "name": "ipython",
    "version": 3
   },
   "file_extension": ".py",
   "mimetype": "text/x-python",
   "name": "python",
   "nbconvert_exporter": "python",
   "pygments_lexer": "ipython3",
   "version": "3.11.5"
  }
 },
 "nbformat": 4,
 "nbformat_minor": 5
}
